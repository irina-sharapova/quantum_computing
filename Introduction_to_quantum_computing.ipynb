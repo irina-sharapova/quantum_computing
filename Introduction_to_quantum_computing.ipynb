{
 "cells": [
  {
   "cell_type": "markdown",
   "id": "59a15c94",
   "metadata": {},
   "source": [
    "### 1. Создаем первую квантовую схему"
   ]
  },
  {
   "cell_type": "code",
   "execution_count": 2,
   "id": "3acbc696",
   "metadata": {},
   "outputs": [
    {
     "data": {
      "image/png": "[encoded data removed]",
      "text/plain": [
       "<Figure size 116.697x264.88 with 1 Axes>"
      ]
     },
     "execution_count": 2,
     "metadata": {},
     "output_type": "execute_result"
    }
   ],
   "source": [
    "from qiskit import QuantumCircuit\n",
    "\n",
    "# Create quantum circuit with 3 qubits and 3 classical bits \\ Создаем квантовую схему с 3-мя кубитами и 3-мяклассическими битами\n",
    "# (we'll explain why we need the classical bits later) \\ обьясним позже, зачем нужны классические биты\n",
    "qc = QuantumCircuit(3, 3)\n",
    "qc.draw('mpl')  # returns a drawing of the circuit \\ запрос возвращает рисунок схемы"
   ]
  },
  {
   "cell_type": "code",
   "execution_count": 5,
   "id": "fef3ceda",
   "metadata": {},
   "outputs": [
    {
     "data": {
      "image/png": "[encoded data removed]",
      "text/plain": [
       "<Figure size 267.197x264.88 with 1 Axes>"
      ]
     },
     "execution_count": 5,
     "metadata": {},
     "output_type": "execute_result"
    }
   ],
   "source": [
    "# measure qubits 0, 1 & 2 to classical bits 0, 1 & 2 respectively \\ измерять кубиты 0, 1 и 2 до классических битов 0, 1 и 2 соответственно\n",
    "qc = QuantumCircuit(3, 3)\n",
    "qc.measure([0,1,2], [0,1,2])\n",
    "qc.draw('mpl')"
   ]
  },
  {
   "cell_type": "code",
   "execution_count": 6,
   "id": "467f3e1e",
   "metadata": {},
   "outputs": [],
   "source": [
    "# Let's import Qiskit’s simulator (called Aer), and make a new simulator object \\ Давайте импортируем симулятор Qiskit (называемый Aer) и создадим новый объект симулятора\n",
    "from qiskit.providers.aer import AerSimulator\n",
    "sim = AerSimulator()  # make new simulator object"
   ]
  },
  {
   "cell_type": "markdown",
   "id": "fd01c34c",
   "metadata": {},
   "source": [
    "###### To get the results from the job, we use the results method, and the most popular way to view the results is as a dictionary of \"counts\" \n",
    "\n",
    "###### Чтобы получить результаты работы, мы используем метод результатов, и самый популярный способ просмотра результатов — это словарь «счетчиков»."
   ]
  },
  {
   "cell_type": "code",
   "execution_count": 7,
   "id": "454ac359",
   "metadata": {},
   "outputs": [
    {
     "data": {
      "text/plain": [
       "{'000': 1024}"
      ]
     },
     "execution_count": 7,
     "metadata": {},
     "output_type": "execute_result"
    }
   ],
   "source": [
    "job = sim.run(qc)      # run the experiment \\ запустить эксперимент\n",
    "result = job.result()  # get the results \\ получить результаты\n",
    "result.get_counts()    # interpret the results as a \"counts\" dictionary \\ интерпретировать как словарь {'результат измерений': число измерений}"
   ]
  },
  {
   "cell_type": "markdown",
   "id": "bf3a9a63",
   "metadata": {},
   "source": [
    "###### By convention, qubits always start in the state 0, and since we are doing nothing to them before measurement, the results are always 0\n",
    "\n",
    "###### По соглашению кубиты всегда начинаются в состоянии 0, и, поскольку мы ничего с ними не делаем перед измерением, результаты всегда равны 0"
   ]
  },
  {
   "cell_type": "code",
   "execution_count": null,
   "id": "024db110",
   "metadata": {},
   "outputs": [],
   "source": []
  },
  {
   "cell_type": "markdown",
   "id": "9d8fab0d",
   "metadata": {},
   "source": [
    "### 1.  Оператор NOT или X-gate "
   ]
  },
  {
   "cell_type": "code",
   "execution_count": 9,
   "id": "c44a731f",
   "metadata": {},
   "outputs": [
    {
     "data": {
      "image/png": "[encoded data removed]",
      "text/plain": [
       "<Figure size 267.197x264.88 with 1 Axes>"
      ]
     },
     "execution_count": 9,
     "metadata": {},
     "output_type": "execute_result"
    }
   ],
   "source": [
    "# Create quantum circuit with 3 qubits and 3 classical bits: \\ оздаем квантовую схему с 3-мя кубитами и 3-мяклассическими битами\n",
    "qc = QuantumCircuit(3, 3)\n",
    "qc.x([0,1])  # Perform X-gates on qubits 0 & 1 \\ Применяем X-гейты на кубитах 0 и 1\n",
    "qc.measure([0,1,2], [0,1,2])\n",
    "qc.draw('mpl')    # returns a drawing of the circuit"
   ]
  },
  {
   "cell_type": "code",
   "execution_count": 10,
   "id": "92db52a0",
   "metadata": {},
   "outputs": [
    {
     "data": {
      "text/plain": [
       "{'011': 1024}"
      ]
     },
     "execution_count": 10,
     "metadata": {},
     "output_type": "execute_result"
    }
   ],
   "source": [
    "job = sim.run(qc)      # run the experiment \\ запустить эксперимент    \n",
    "result = job.result()  # get the results \\ получить результаты\n",
    "result.get_counts()    "
   ]
  },
  {
   "cell_type": "code",
   "execution_count": null,
   "id": "82286948",
   "metadata": {},
   "outputs": [],
   "source": []
  },
  {
   "cell_type": "markdown",
   "id": "46866435",
   "metadata": {},
   "source": [
    "### 2.  Оператор CNOT"
   ]
  },
  {
   "cell_type": "code",
   "execution_count": 7,
   "id": "289bafed",
   "metadata": {},
   "outputs": [
    {
     "data": {
      "image/png": "[encoded data removed]",
      "text/plain": [
       "<Figure size 327.252x204.68 with 1 Axes>"
      ]
     },
     "metadata": {},
     "output_type": "display_data"
    },
    {
     "name": "stdout",
     "output_type": "stream",
     "text": [
      "Result:  {'11': 1024}\n"
     ]
    }
   ],
   "source": [
    "qc = QuantumCircuit(2, 2)\n",
    "qc.x(0)\n",
    "qc.cx(0, 1) # CNOT controlled by qubit 0 and targeting qubit 1 \\ CNOT контролируется кубитом 0 и нацелена на кубит 1\n",
    "qc.measure([0,1], [0,1])\n",
    "display(qc.draw('mpl')) # display a drawing of the circuit \\ отображаем чертеж схемы\n",
    "\n",
    "job = sim.run(qc)     # run the experiment \\ запустить эксперимент \n",
    "result = job.result() # get the results \\ получить результаты\n",
    "\n",
    "print(\"Result: \", result.get_counts())"
   ]
  },
  {
   "cell_type": "code",
   "execution_count": null,
   "id": "9bdc62be",
   "metadata": {},
   "outputs": [],
   "source": []
  },
  {
   "cell_type": "markdown",
   "id": "13843cf6",
   "metadata": {},
   "source": [
    "### 3. Создаем сумматор двоичных чисел\n",
    "\n",
    "Для нашего полусумматора мы не хотим перезаписывать один из наших входов. Вместо этого мы хотим записать результат на другую пару кубитов. Для этого мы можем использовать два CNOT и записать вывод в новый кубит, который, как мы знаем, будет в состоянии 0:\n",
    "\n",
    "Сейчас мы на полпути к полностью работающему полусумматору. Мы знаем, как вычислить крайний правый выходной бит, поэтому нам просто нужно решить, как вычислить левый выходной бит. Если вы снова посмотрите на четыре возможные суммы, то заметите, что только в одном случае это 1 вместо 0: 1+1=10. Это происходит только тогда, когда оба бита, которые мы добавляем, равны 1.\n",
    "\n",
    "Чтобы вычислить эту часть вывода, мы могли бы просто заставить наш компьютер посмотреть, равны ли 1 оба входа. к требуемому значению 1 только для этого случая, что дает нам нужный результат.\n",
    "\n",
    "Для этого нам нужен новый вентиль: как CNOT, но управляемый двумя кубитами вместо одного. Это выполнит НЕ на целевом кубите только тогда, когда оба элемента управления находятся в состоянии 1. Этот новый вентиль называется тоффоли.\n",
    "\n",
    "Вентиль Тоффоли, изобретенный Томмазо Тоффоли, является универсальным обратимым логическим вентилем, что означает, что любая обратимая схема может быть построена из вентилей Тоффоли. Он также известен как управляемые-контролируемые-не ворота, что описывает его действие. Он имеет 3-битные входы и выходы; если первые два бита оба установлены в 1, он инвертирует третий бит, в противном случае все биты остаются прежними.\n",
    "ворота. Для тех из вас, кто знаком с булевыми логическими вентилями, это в основном вентиль И.\n"
   ]
  },
  {
   "cell_type": "code",
   "execution_count": 8,
   "id": "bb81e10f",
   "metadata": {},
   "outputs": [
    {
     "data": {
      "image/png": "[encoded data removed]",
      "text/plain": [
       "<Figure size 267.197x325.08 with 1 Axes>"
      ]
     },
     "execution_count": 8,
     "metadata": {},
     "output_type": "execute_result"
    }
   ],
   "source": [
    "qc = QuantumCircuit(4, 2)\n",
    "qc.cx(0, 2)\n",
    "qc.cx(1, 2)\n",
    "qc.ccx(0, 1, 3)\n",
    "qc.draw('mpl')"
   ]
  },
  {
   "cell_type": "markdown",
   "id": "af75e771",
   "metadata": {},
   "source": [
    "Теперь у нас есть наш половинный сумматор, следующее, что нужно сделать, это проверить, что он работает. Для этого мы создадим еще одну схему, которая кодирует некоторые входные данные, применяет полусумматор и извлекает выходные данные."
   ]
  },
  {
   "cell_type": "code",
   "execution_count": 9,
   "id": "2e8b38fb",
   "metadata": {},
   "outputs": [
    {
     "data": {
      "image/png": "[encoded data removed]",
      "text/plain": [
       "<Figure size 447.797x325.08 with 1 Axes>"
      ]
     },
     "execution_count": 9,
     "metadata": {},
     "output_type": "execute_result"
    }
   ],
   "source": [
    "test_qc = QuantumCircuit(4, 2)\n",
    "\n",
    "# First, our circuit should encode an input (here '11') \\ Во-первых, наша схема должна кодировать вход (здесь «11»)\n",
    "test_qc.x(0)\n",
    "test_qc.x(1) # меняем значение кубитов с 0 на 1\n",
    "\n",
    "# Next, it should carry out the adder circuit we created \\ Далее он должен выполнять созданную нами схему сумматора\n",
    "test_qc.cx(0,2)\n",
    "test_qc.cx(1,2)\n",
    "test_qc.ccx(0,1,3)\n",
    "\n",
    "# Finally, we will measure the bottom two qubits to extract the output \\ Наконец, мы измерим два нижних кубита, чтобы извлечь результат\n",
    "test_qc.measure(2,0)\n",
    "test_qc.measure(3,1)\n",
    "test_qc.draw('mpl')"
   ]
  },
  {
   "cell_type": "code",
   "execution_count": 10,
   "id": "9bf2da98",
   "metadata": {},
   "outputs": [
    {
     "data": {
      "text/plain": [
       "{'10': 1024}"
      ]
     },
     "execution_count": 10,
     "metadata": {},
     "output_type": "execute_result"
    }
   ],
   "source": [
    "job = sim.run(test_qc)  # run the experiment\n",
    "result = job.result()   # get the results\n",
    "result.get_counts()     # interpret the results as a “counts” dictionary"
   ]
  },
  {
   "cell_type": "markdown",
   "id": "fd61f521",
   "metadata": {},
   "source": [
    "Убеждаемся, что схема полусумматора работает для всех четырех возможных входов"
   ]
  },
  {
   "cell_type": "code",
   "execution_count": 15,
   "id": "9d46289f",
   "metadata": {},
   "outputs": [
    {
     "data": {
      "image/png": "[encoded data removed]",
      "text/plain": [
       "<Figure size 447.797x325.08 with 1 Axes>"
      ]
     },
     "execution_count": 15,
     "metadata": {},
     "output_type": "execute_result"
    }
   ],
   "source": [
    "test_qc = QuantumCircuit(4, 2)\n",
    "\n",
    "# First, our circuit should encode an input (here '11') \\ Во-первых, наша схема должна кодировать вход (здесь «11»)\n",
    "test_qc.x(0)\n",
    "#test_qc.x(1) # меняем значение кубитов с 0 на 1\n",
    "\n",
    "# Next, it should carry out the adder circuit we created \\ Далее он должен выполнять созданную нами схему сумматора\n",
    "test_qc.cx(0,2)\n",
    "test_qc.cx(1,2)\n",
    "test_qc.ccx(0,1,3)\n",
    "\n",
    "# Finally, we will measure the bottom two qubits to extract the output \\ Наконец, мы измерим два нижних кубита, чтобы извлечь результат\n",
    "test_qc.measure(2,0)\n",
    "test_qc.measure(3,1)\n",
    "test_qc.draw('mpl')"
   ]
  },
  {
   "cell_type": "code",
   "execution_count": 14,
   "id": "a98b7537",
   "metadata": {},
   "outputs": [
    {
     "data": {
      "text/plain": [
       "{'01': 1024}"
      ]
     },
     "execution_count": 14,
     "metadata": {},
     "output_type": "execute_result"
    }
   ],
   "source": [
    "job = sim.run(test_qc)  # run the experiment\n",
    "result = job.result()   # get the results\n",
    "result.get_counts()     # interpret the results as a “counts” dictionary"
   ]
  },
  {
   "cell_type": "code",
   "execution_count": 16,
   "id": "a6c3e13f",
   "metadata": {},
   "outputs": [
    {
     "data": {
      "image/png": "[encoded data removed]",
      "text/plain": [
       "<Figure size 447.797x325.08 with 1 Axes>"
      ]
     },
     "execution_count": 16,
     "metadata": {},
     "output_type": "execute_result"
    }
   ],
   "source": [
    "test_qc = QuantumCircuit(4, 2)\n",
    "\n",
    "# First, our circuit should encode an input (here '11') \\ Во-первых, наша схема должна кодировать вход (здесь «11»)\n",
    "#test_qc.x(0)\n",
    "test_qc.x(1) # меняем значение кубитов с 0 на 1\n",
    "\n",
    "# Next, it should carry out the adder circuit we created \\ Далее он должен выполнять созданную нами схему сумматора\n",
    "test_qc.cx(0,2)\n",
    "test_qc.cx(1,2)\n",
    "test_qc.ccx(0,1,3)\n",
    "\n",
    "# Finally, we will measure the bottom two qubits to extract the output \\ Наконец, мы измерим два нижних кубита, чтобы извлечь результат\n",
    "test_qc.measure(2,0)\n",
    "test_qc.measure(3,1)\n",
    "test_qc.draw('mpl')"
   ]
  },
  {
   "cell_type": "code",
   "execution_count": 17,
   "id": "ee16c86a",
   "metadata": {},
   "outputs": [
    {
     "data": {
      "text/plain": [
       "{'01': 1024}"
      ]
     },
     "execution_count": 17,
     "metadata": {},
     "output_type": "execute_result"
    }
   ],
   "source": [
    "job = sim.run(test_qc)  # run the experiment\n",
    "result = job.result()   # get the results\n",
    "result.get_counts()     # interpret the results as a “counts” dictionary"
   ]
  },
  {
   "cell_type": "code",
   "execution_count": 18,
   "id": "cdd9f1ea",
   "metadata": {},
   "outputs": [
    {
     "data": {
      "image/png": "[encoded data removed]",
      "text/plain": [
       "<Figure size 387.597x325.08 with 1 Axes>"
      ]
     },
     "execution_count": 18,
     "metadata": {},
     "output_type": "execute_result"
    }
   ],
   "source": [
    "test_qc = QuantumCircuit(4, 2)\n",
    "\n",
    "# First, our circuit should encode an input (here '11') \\ Во-первых, наша схема должна кодировать вход (здесь «11»)\n",
    "#test_qc.x(0)\n",
    "#test_qc.x(1) # меняем значение кубитов с 0 на 1\n",
    "\n",
    "# Next, it should carry out the adder circuit we created \\ Далее он должен выполнять созданную нами схему сумматора\n",
    "test_qc.cx(0,2)\n",
    "test_qc.cx(1,2)\n",
    "test_qc.ccx(0,1,3)\n",
    "\n",
    "# Finally, we will measure the bottom two qubits to extract the output \\ Наконец, мы измерим два нижних кубита, чтобы извлечь результат\n",
    "test_qc.measure(2,0)\n",
    "test_qc.measure(3,1)\n",
    "test_qc.draw('mpl')"
   ]
  },
  {
   "cell_type": "code",
   "execution_count": 19,
   "id": "25a4b164",
   "metadata": {},
   "outputs": [
    {
     "data": {
      "text/plain": [
       "{'00': 1024}"
      ]
     },
     "execution_count": 19,
     "metadata": {},
     "output_type": "execute_result"
    }
   ],
   "source": [
    "job = sim.run(test_qc)  # run the experiment\n",
    "result = job.result()   # get the results\n",
    "result.get_counts()     # interpret the results as a “counts” dictionary"
   ]
  },
  {
   "cell_type": "code",
   "execution_count": null,
   "id": "52b55555",
   "metadata": {},
   "outputs": [],
   "source": []
  }
 ],
 "metadata": {
  "kernelspec": {
   "display_name": "Python 3",
   "language": "python",
   "name": "python3"
  },
  "language_info": {
   "codemirror_mode": {
    "name": "ipython",
    "version": 3
   },
   "file_extension": ".py",
   "mimetype": "text/x-python",
   "name": "python",
   "nbconvert_exporter": "python",
   "pygments_lexer": "ipython3",
   "version": "3.8.8"
  }
 },
 "nbformat": 4,
 "nbformat_minor": 5
}
